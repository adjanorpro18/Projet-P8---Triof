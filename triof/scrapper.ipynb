{
 "cells": [
  {
   "cell_type": "code",
   "execution_count": 2,
   "metadata": {},
   "outputs": [],
   "source": [
    "import selenium\n",
    "from selenium import webdriver\n",
    "import time\n",
    "import requests\n",
    "from PIL import Image\n",
    "import io\n",
    "from io import BytesIO\n",
    "import os\n",
    "import hashlib\n"
   ]
  },
  {
   "cell_type": "code",
   "execution_count": 3,
   "metadata": {},
   "outputs": [
    {
     "name": "stderr",
     "output_type": "stream",
     "text": [
      "/var/folders/q8/n1xznm2s4k92f_f_2r5cxygc0000gn/T/ipykernel_34071/708202962.py:2: DeprecationWarning: executable_path has been deprecated, please pass in a Service object\n",
      "  wd = webdriver.Chrome(executable_path= DRIVER_PATH)\n"
     ]
    }
   ],
   "source": [
    "DRIVER_PATH = \"/Users/enyonadjanor/IA-P2-Euskadi-Enyon/Projets/Projet P8 - Triof/chromedriver\"\n",
    "wd = webdriver.Chrome(executable_path= DRIVER_PATH)"
   ]
  },
  {
   "cell_type": "markdown",
   "metadata": {},
   "source": []
  },
  {
   "cell_type": "code",
   "execution_count": 4,
   "metadata": {},
   "outputs": [],
   "source": [
    "wd.get('https://google.com')\n",
    "\n"
   ]
  },
  {
   "cell_type": "code",
   "execution_count": 5,
   "metadata": {},
   "outputs": [],
   "source": [
    "# search_box = wd.find_element_by_css_selector('input.gLFyf')\n",
    "# search_box.send_keys('Dogs')"
   ]
  },
  {
   "cell_type": "code",
   "execution_count": 6,
   "metadata": {},
   "outputs": [],
   "source": [
    "wd.quit()"
   ]
  },
  {
   "cell_type": "code",
   "execution_count": 7,
   "metadata": {},
   "outputs": [],
   "source": [
    "def fetch_image_urls(query:str, max_links_to_fetch:int, wd:webdriver, sleep_between_interactions:int=1):\n",
    "    def scroll_to_end(wd):\n",
    "        wd.execute_script(\"window.scrollTo(0, document.body.scrollHeight);\")\n",
    "        time.sleep(sleep_between_interactions)    \n",
    "    \n",
    "    # build the google query\n",
    "    search_url = \"https://www.google.com/search?safe=off&site=&tbm=isch&source=hp&q={q}&oq={q}&gs_l=img\"\n",
    "\n",
    "    # load the page\n",
    "    wd.get(search_url.format(q=query))\n",
    "\n",
    "    image_urls = set()\n",
    "    image_count = 0\n",
    "    results_start = 0\n",
    "    while image_count < max_links_to_fetch:\n",
    "        scroll_to_end(wd)\n",
    "\n",
    "        # get all image thumbnail results\n",
    "        thumbnail_results = wd.find_elements_by_css_selector(\"img.Q4LuWd\")\n",
    "        number_results = len(thumbnail_results)\n",
    "        \n",
    "        print(f\"Found: {number_results} search results. Extracting links from {results_start}:{number_results}\")\n",
    "        \n",
    "        for img in thumbnail_results[results_start:number_results]:\n",
    "            # try to click every thumbnail such that we can get the real image behind it\n",
    "            try:\n",
    "                img.click()\n",
    "                time.sleep(sleep_between_interactions)\n",
    "            except Exception:\n",
    "                continue\n",
    "\n",
    "            # extract image urls    \n",
    "            actual_images = wd.find_elements_by_css_selector('img.n3VNCb')\n",
    "            for actual_image in actual_images:\n",
    "                if actual_image.get_attribute('src') and 'http' in actual_image.get_attribute('src'):\n",
    "                    image_urls.add(actual_image.get_attribute('src'))\n",
    "\n",
    "            image_count = len(image_urls)\n",
    "\n",
    "            if len(image_urls) >= max_links_to_fetch:\n",
    "                print(f\"Found: {len(image_urls)} image links, done!\")\n",
    "                break\n",
    "        else:\n",
    "            print(\"Found:\", len(image_urls), \"image links, looking for more ...\")\n",
    "            time.sleep(30)\n",
    "            return \n",
    "            load_more_button = wd.find_element_by_css_selector(\".mye4qd\")\n",
    "            if load_more_button:\n",
    "                wd.execute_script(\"document.querySelector('.mye4qd').click();\")\n",
    "\n",
    "        # move the result startpoint further down\n",
    "        results_start = len(thumbnail_results)\n",
    "\n",
    "    return image_urls"
   ]
  },
  {
   "cell_type": "code",
   "execution_count": 8,
   "metadata": {},
   "outputs": [],
   "source": [
    "def persist_image(folder_path:str,url:str):\n",
    "    try:\n",
    "        image_content = requests.get(url).content\n",
    "\n",
    "    except Exception as e:\n",
    "        print(f\"ERROR - Could not download {url} - {e}\")\n",
    "\n",
    "    try:\n",
    "        image_file = io.BytesIO(image_content)\n",
    "        image = Image.open(image_file).convert('RGB')\n",
    "        file_path = os.path.join(folder_path,hashlib.sha1(image_content).hexdigest()[:10] + '.jpg')\n",
    "        with open(file_path, 'wb') as f:\n",
    "            image.save(f, \"JPEG\", quality=85)\n",
    "        print(f\"SUCCESS - saved {url} - as {file_path}\")\n",
    "    except Exception as e:\n",
    "        print(f\"ERROR - Could not save {url} - {e}\")"
   ]
  },
  {
   "cell_type": "markdown",
   "metadata": {},
   "source": [
    "Persist all images"
   ]
  },
  {
   "cell_type": "code",
   "execution_count": 9,
   "metadata": {},
   "outputs": [],
   "source": [
    "\n",
    "def search_and_download(search_term:str,driver_path:str,target_path='./images',number_images=5):\n",
    "    target_folder = os.path.join(target_path,'_'.join(search_term.lower().split(' ')))\n",
    "\n",
    "    if not os.path.exists(target_folder):\n",
    "        os.makedirs(target_folder)\n",
    "\n",
    "    with webdriver.Chrome(executable_path=driver_path) as wd:\n",
    "        res = fetch_image_urls(search_term, number_images, wd=wd, sleep_between_interactions=0.5)\n",
    "        \n",
    "    for elem in res:\n",
    "        persist_image(target_folder,elem)"
   ]
  },
  {
   "cell_type": "markdown",
   "metadata": {},
   "source": [
    "Searching download and saving images"
   ]
  },
  {
   "cell_type": "code",
   "execution_count": 10,
   "metadata": {},
   "outputs": [
    {
     "name": "stderr",
     "output_type": "stream",
     "text": [
      "/var/folders/q8/n1xznm2s4k92f_f_2r5cxygc0000gn/T/ipykernel_34071/2975638876.py:7: DeprecationWarning: executable_path has been deprecated, please pass in a Service object\n",
      "  with webdriver.Chrome(executable_path=driver_path) as wd:\n",
      "/var/folders/q8/n1xznm2s4k92f_f_2r5cxygc0000gn/T/ipykernel_34071/2109922686.py:19: DeprecationWarning: find_elements_by_* commands are deprecated. Please use find_elements() instead\n",
      "  thumbnail_results = wd.find_elements_by_css_selector(\"img.Q4LuWd\")\n"
     ]
    },
    {
     "name": "stdout",
     "output_type": "stream",
     "text": [
      "Found: 100 search results. Extracting links from 0:100\n"
     ]
    },
    {
     "name": "stderr",
     "output_type": "stream",
     "text": [
      "/var/folders/q8/n1xznm2s4k92f_f_2r5cxygc0000gn/T/ipykernel_34071/2109922686.py:33: DeprecationWarning: find_elements_by_* commands are deprecated. Please use find_elements() instead\n",
      "  actual_images = wd.find_elements_by_css_selector('img.n3VNCb')\n"
     ]
    },
    {
     "name": "stdout",
     "output_type": "stream",
     "text": [
      "Found: 10 image links, done!\n",
      "SUCCESS - saved https://img.myloview.fr/posters/vector-flat-plastic-bottle-icon-400-193694578.jpg - as /Users/enyonadjanor/IA-P2-Euskadi-Enyon/Projets/Projet P8 - Triof/triof/images/plastic_bottle/29b851a497.jpg\n",
      "SUCCESS - saved https://media.istockphoto.com/vectors/plastic-bottle-with-mineral-water-on-alpha-transparent-background-vector-id886269012 - as /Users/enyonadjanor/IA-P2-Euskadi-Enyon/Projets/Projet P8 - Triof/triof/images/plastic_bottle/a3d5417475.jpg\n",
      "SUCCESS - saved https://media.istockphoto.com/photos/water-plastic-bottle-isolated-picture-id926200658 - as /Users/enyonadjanor/IA-P2-Euskadi-Enyon/Projets/Projet P8 - Triof/triof/images/plastic_bottle/2c679cef83.jpg\n",
      "SUCCESS - saved https://static.turbosquid.com/Preview/001236/383/UA/plastic-bottle-3D-model_600.jpg - as /Users/enyonadjanor/IA-P2-Euskadi-Enyon/Projets/Projet P8 - Triof/triof/images/plastic_bottle/285cf1d3ea.jpg\n",
      "SUCCESS - saved https://m.media-amazon.com/images/I/61Krpl7FGyL._SL1500_.jpg - as /Users/enyonadjanor/IA-P2-Euskadi-Enyon/Projets/Projet P8 - Triof/triof/images/plastic_bottle/7bc456a7b5.jpg\n"
     ]
    },
    {
     "name": "stderr",
     "output_type": "stream",
     "text": [
      "/Users/enyonadjanor/opt/anaconda3/lib/python3.9/site-packages/PIL/Image.py:960: UserWarning: Palette images with Transparency expressed in bytes should be converted to RGBA images\n",
      "  warnings.warn(\n"
     ]
    },
    {
     "name": "stdout",
     "output_type": "stream",
     "text": [
      "SUCCESS - saved https://images.twinkl.co.uk/tr/image/upload/t_illustration/illustation/plastic-bottle.png - as /Users/enyonadjanor/IA-P2-Euskadi-Enyon/Projets/Projet P8 - Triof/triof/images/plastic_bottle/9f4c180665.jpg\n",
      "SUCCESS - saved https://static.turbosquid.com/Preview/001235/567/KI/plastic-water-bottle-3D-model_600.jpg - as /Users/enyonadjanor/IA-P2-Euskadi-Enyon/Projets/Projet P8 - Triof/triof/images/plastic_bottle/a70afd01a7.jpg\n",
      "SUCCESS - saved https://souriredessaveurs.com/3745-large_default/source-water-pet-plastic-bottle-50-cl.jpg - as /Users/enyonadjanor/IA-P2-Euskadi-Enyon/Projets/Projet P8 - Triof/triof/images/plastic_bottle/f04e5be4eb.jpg\n",
      "SUCCESS - saved https://media.istockphoto.com/photos/plastic-bottle-group-on-white-picture-id906026600 - as /Users/enyonadjanor/IA-P2-Euskadi-Enyon/Projets/Projet P8 - Triof/triof/images/plastic_bottle/995c6868fa.jpg\n",
      "SUCCESS - saved https://media.istockphoto.com/photos/plastic-bottles-picture-id466252351?k=20&m=466252351&s=170667a&w=0&h=uh5z8_XyjHtX4isV2FZM9T9CpDK4owy5wT7NPK1nUFY= - as /Users/enyonadjanor/IA-P2-Euskadi-Enyon/Projets/Projet P8 - Triof/triof/images/plastic_bottle/a3723de0cd.jpg\n",
      "Found: 100 search results. Extracting links from 0:100\n",
      "Found: 10 image links, done!\n",
      "SUCCESS - saved https://tradevalley.com/media/sellers/120/products/250cc-classic-disposable-plastic-clear-cup_1.jpg - as /Users/enyonadjanor/IA-P2-Euskadi-Enyon/Projets/Projet P8 - Triof/triof/images/plastic_cup/0a859736e3.jpg\n",
      "SUCCESS - saved http://coposplastico.com/WebRoot/Store/Shops/960737066/6092/B54E/C0D9/3BE8/B42E/25E6/6498/AA7D/Copo__Plastico_transparente_200.jpg - as /Users/enyonadjanor/IA-P2-Euskadi-Enyon/Projets/Projet P8 - Triof/triof/images/plastic_cup/f5abc9cefe.jpg\n",
      "SUCCESS - saved https://www.webstaurantstore.com/images/products/large/169514/1942869.jpg - as /Users/enyonadjanor/IA-P2-Euskadi-Enyon/Projets/Projet P8 - Triof/triof/images/plastic_cup/e55b67bb54.jpg\n",
      "ERROR - Could not save https://upload.wikimedia.org/wikipedia/commons/a/a7/Plastic_cups.jpg - cannot identify image file <_io.BytesIO object at 0x1106b2220>\n",
      "SUCCESS - saved https://img.joomcdn.net/b6b7f777c15991c0748a405946ab421d48cc17c8_1024_1024.jpeg - as /Users/enyonadjanor/IA-P2-Euskadi-Enyon/Projets/Projet P8 - Triof/triof/images/plastic_cup/e851f87136.jpg\n",
      "SUCCESS - saved https://tradevalley.com/media/sellers/120/products/200cc-sound-plastik-disposable-clear-plastic-cup-1-1.jpg - as /Users/enyonadjanor/IA-P2-Euskadi-Enyon/Projets/Projet P8 - Triof/triof/images/plastic_cup/fc09c65122.jpg\n",
      "SUCCESS - saved https://image.made-in-china.com/2f0j00emJtdOBWlQrY/7oz-200ml-Clear-Disposable-Plastic-Party-Drinking-PP-Cup-C077086-.jpg - as /Users/enyonadjanor/IA-P2-Euskadi-Enyon/Projets/Projet P8 - Triof/triof/images/plastic_cup/21a491836b.jpg\n",
      "SUCCESS - saved https://static.turbosquid.com/Preview/2019/11/14__10_00_20/Plastic_cup_0000_small.jpg82DD06EF-C2E6-4FEA-9930-2A6E275A0DE0Large.jpg - as /Users/enyonadjanor/IA-P2-Euskadi-Enyon/Projets/Projet P8 - Triof/triof/images/plastic_cup/8dcd4dc0bf.jpg\n",
      "SUCCESS - saved https://www.l-impeccable.com/wp-content/uploads/2019/08/CA1056_Clear-Plastic-Cup-16oz-x1000_L-Impeccable.jpg - as /Users/enyonadjanor/IA-P2-Euskadi-Enyon/Projets/Projet P8 - Triof/triof/images/plastic_cup/a211bba409.jpg\n",
      "SUCCESS - saved https://i.ebayimg.com/images/g/NMsAAOSwJbpbfVJL/s-l300.jpg - as /Users/enyonadjanor/IA-P2-Euskadi-Enyon/Projets/Projet P8 - Triof/triof/images/plastic_cup/202ce9b720.jpg\n",
      "Found: 100 search results. Extracting links from 0:100\n",
      "Found: 10 image links, done!\n",
      "SUCCESS - saved https://image.made-in-china.com/2f0j00fOHtEmFRYrqi/Heavy-Plastic-Cutlery-for-Flight-Jx171.jpg - as /Users/enyonadjanor/IA-P2-Euskadi-Enyon/Projets/Projet P8 - Triof/triof/images/plastic_cutlery/3197237f24.jpg\n",
      "SUCCESS - saved https://cdn5.vectorstock.com/i/1000x1000/21/69/plastic-cutlery-vector-1862169.jpg - as /Users/enyonadjanor/IA-P2-Euskadi-Enyon/Projets/Projet P8 - Triof/triof/images/plastic_cutlery/4ed5a04be9.jpg\n",
      "SUCCESS - saved https://media.timeout.com/images/105756794/image.jpg - as /Users/enyonadjanor/IA-P2-Euskadi-Enyon/Projets/Projet P8 - Triof/triof/images/plastic_cutlery/2892bd6e8b.jpg\n",
      "SUCCESS - saved https://i.guim.co.uk/img/media/35d78ddcb16f0f75caaaff973b357fcb3ac78252/0_185_6000_3600/master/6000.jpg?width=1200&quality=85&auto=format&fit=max&s=c492890a05b08847039b862628cc959f - as /Users/enyonadjanor/IA-P2-Euskadi-Enyon/Projets/Projet P8 - Triof/triof/images/plastic_cutlery/1e37450a56.jpg\n",
      "SUCCESS - saved https://s7.orientaltrading.com/is/image/OrientalTrading/VIEWER_ZOOM/neon-plastic-cutlery-48-pc-~13931701 - as /Users/enyonadjanor/IA-P2-Euskadi-Enyon/Projets/Projet P8 - Triof/triof/images/plastic_cutlery/c2b0b02d43.jpg\n",
      "SUCCESS - saved https://image.made-in-china.com/2f0j00HwVQlsvFCtcE/Popular-Plastic-Disposable-Cutlery-Set-Fork-3G.jpg - as /Users/enyonadjanor/IA-P2-Euskadi-Enyon/Projets/Projet P8 - Triof/triof/images/plastic_cutlery/32675ad8a9.jpg\n",
      "SUCCESS - saved https://m.media-amazon.com/images/I/51mE9ZsmquL._AC_SS450_.jpg - as /Users/enyonadjanor/IA-P2-Euskadi-Enyon/Projets/Projet P8 - Triof/triof/images/plastic_cutlery/f6fbc00a3f.jpg\n",
      "SUCCESS - saved https://media.istockphoto.com/photos/plastic-cutlery-spoon-fork-knife-utensil-recycling-disposable-picture-id1216432392?k=20&m=1216432392&s=170667a&w=0&h=tbBiPyKT-wWTMht3NRxuo9iiDcQMACRIbz_icmMLnbQ= - as /Users/enyonadjanor/IA-P2-Euskadi-Enyon/Projets/Projet P8 - Triof/triof/images/plastic_cutlery/900a9a068d.jpg\n",
      "SUCCESS - saved https://i.ebayimg.com/images/g/CzsAAOxyM89SdpQH/s-l400.jpg - as /Users/enyonadjanor/IA-P2-Euskadi-Enyon/Projets/Projet P8 - Triof/triof/images/plastic_cutlery/933b07b70b.jpg\n",
      "SUCCESS - saved https://i.ebayimg.com/images/g/hhkAAOSwHptY-d~y/s-l300.jpg - as /Users/enyonadjanor/IA-P2-Euskadi-Enyon/Projets/Projet P8 - Triof/triof/images/plastic_cutlery/e359ec53e9.jpg\n",
      "Found: 100 search results. Extracting links from 0:100\n",
      "Found: 10 image links, done!\n",
      "SUCCESS - saved https://media.istockphoto.com/photos/very-dirty-dangerous-water-in-plastic-bottles-isolated-set-picture-id644346980?s=612x612 - as /Users/enyonadjanor/IA-P2-Euskadi-Enyon/Projets/Projet P8 - Triof/triof/images/_dirty_plastic_bottle/d980b9eb6d.jpg\n",
      "SUCCESS - saved https://previews.123rf.com/images/akintevsam/akintevsam1905/akintevsam190500068/122470430-discarded-dirty-plastic-bottle-with-a-yellow-cap-on-the-shore-near-the-water-plastic-pollution.jpg - as /Users/enyonadjanor/IA-P2-Euskadi-Enyon/Projets/Projet P8 - Triof/triof/images/_dirty_plastic_bottle/787f7a0bbf.jpg\n",
      "SUCCESS - saved https://thumbs.dreamstime.com/b/dirty-plastic-bottle-isolated-black-background-dirty-plastic-bottle-water-isolated-black-background-115917145.jpg - as /Users/enyonadjanor/IA-P2-Euskadi-Enyon/Projets/Projet P8 - Triof/triof/images/_dirty_plastic_bottle/eb8322e8a6.jpg\n",
      "SUCCESS - saved https://image.shutterstock.com/z/stock-photo-very-dirty-dangerous-water-in-plastic-bottles-isolated-set-475272667.jpg - as /Users/enyonadjanor/IA-P2-Euskadi-Enyon/Projets/Projet P8 - Triof/triof/images/_dirty_plastic_bottle/2b1c105e69.jpg\n",
      "SUCCESS - saved https://previews.123rf.com/images/akintevsam/akintevsam1905/akintevsam190500070/122470434-discarded-dirty-plastic-bottle-with-a-yellow-cap-on-the-shore-near-the-water-plastic-pollution.jpg - as /Users/enyonadjanor/IA-P2-Euskadi-Enyon/Projets/Projet P8 - Triof/triof/images/_dirty_plastic_bottle/0d82520807.jpg\n",
      "SUCCESS - saved https://image.shutterstock.com/z/stock-photo-dirty-and-crushed-plastic-bottle-isolated-on-white-background-1545420266.jpg - as /Users/enyonadjanor/IA-P2-Euskadi-Enyon/Projets/Projet P8 - Triof/triof/images/_dirty_plastic_bottle/0f9918f7eb.jpg\n",
      "SUCCESS - saved https://c8.alamy.com/comp/2AK0WP6/waste-empty-plastic-bottle-isolated-on-white-closeup-of-a-plastic-old-dirty-water-bottle-isolated-on-a-white-background-environmental-pollution-by-p-2AK0WP6.jpg - as /Users/enyonadjanor/IA-P2-Euskadi-Enyon/Projets/Projet P8 - Triof/triof/images/_dirty_plastic_bottle/0ee92b4ea1.jpg\n",
      "SUCCESS - saved https://media.istockphoto.com/photos/still-life-of-a-dirty-crushed-plastic-water-bottle-picture-id137202340 - as /Users/enyonadjanor/IA-P2-Euskadi-Enyon/Projets/Projet P8 - Triof/triof/images/_dirty_plastic_bottle/1c918bfa17.jpg\n",
      "SUCCESS - saved https://thumbs.dreamstime.com/z/dirty-plastic-bottles-crushed-crumpled-against-isolated-white-background-dirty-plastic-bottles-crushed-crumpled-138064080.jpg - as /Users/enyonadjanor/IA-P2-Euskadi-Enyon/Projets/Projet P8 - Triof/triof/images/_dirty_plastic_bottle/6435c380ce.jpg\n",
      "SUCCESS - saved https://media.istockphoto.com/photos/plastic-bottle-picture-id1183144409?k=20&m=1183144409&s=612x612&w=0&h=v3fXz5Y4MHF9xhDn6ASTl_3DE9hDIfQzAqVPkyEBa14= - as /Users/enyonadjanor/IA-P2-Euskadi-Enyon/Projets/Projet P8 - Triof/triof/images/_dirty_plastic_bottle/1f7cc05388.jpg\n",
      "Found: 100 search results. Extracting links from 0:100\n",
      "Found: 10 image links, done!\n",
      "SUCCESS - saved https://www.crushpixel.com/big-static13/preview4/garbage-sea-with-plastic-cup-1165001.jpg - as /Users/enyonadjanor/IA-P2-Euskadi-Enyon/Projets/Projet P8 - Triof/triof/images/_dirty_plastic_cup/4a8c1acecf.jpg\n",
      "SUCCESS - saved https://thumbs.dreamstime.com/b/empty-dirty-disposable-plastic-cup-isolated-white-background-empty-dirty-disposable-plastic-cup-180772961.jpg - as /Users/enyonadjanor/IA-P2-Euskadi-Enyon/Projets/Projet P8 - Triof/triof/images/_dirty_plastic_cup/405b785fb9.jpg\n",
      "SUCCESS - saved https://thumbs.dreamstime.com/b/empty-dirty-disposable-plastic-cup-empty-dirty-disposable-plastic-cup-isolated-white-background-180772907.jpg - as /Users/enyonadjanor/IA-P2-Euskadi-Enyon/Projets/Projet P8 - Triof/triof/images/_dirty_plastic_cup/5bd84380bf.jpg\n",
      "SUCCESS - saved https://previews.123rf.com/images/onlyblack/onlyblack1702/onlyblack170200068/71833639-gobelet-jetable-en-plastique-sale-et-froiss%C3%A9-isol%C3%A9-sur-fond-blanc.jpg - as /Users/enyonadjanor/IA-P2-Euskadi-Enyon/Projets/Projet P8 - Triof/triof/images/_dirty_plastic_cup/c352e95912.jpg\n",
      "SUCCESS - saved https://thumbs.dreamstime.com/b/empty-dirty-disposable-plastic-cup-isolated-white-background-empty-dirty-disposable-plastic-cup-180772948.jpg - as /Users/enyonadjanor/IA-P2-Euskadi-Enyon/Projets/Projet P8 - Triof/triof/images/_dirty_plastic_cup/7001e539a3.jpg\n",
      "SUCCESS - saved https://c8.alamy.com/comp/2BHP0WW/empty-dirty-disposable-plastic-cup-isolated-on-white-background-2BHP0WW.jpg - as /Users/enyonadjanor/IA-P2-Euskadi-Enyon/Projets/Projet P8 - Triof/triof/images/_dirty_plastic_cup/90c8b20251.jpg\n",
      "SUCCESS - saved https://c8.alamy.com/comp/F2CW1D/dirty-plastic-flattened-cup-with-straw-on-white-background-F2CW1D.jpg - as /Users/enyonadjanor/IA-P2-Euskadi-Enyon/Projets/Projet P8 - Triof/triof/images/_dirty_plastic_cup/3337373c81.jpg\n",
      "SUCCESS - saved https://image.shutterstock.com/image-photo/used-plastic-cups-isolated-on-260nw-47217247.jpg - as /Users/enyonadjanor/IA-P2-Euskadi-Enyon/Projets/Projet P8 - Triof/triof/images/_dirty_plastic_cup/47ef8fb099.jpg\n",
      "SUCCESS - saved https://image.shutterstock.com/image-photo/close-empty-used-coffee-cups-260nw-53005576.jpg - as /Users/enyonadjanor/IA-P2-Euskadi-Enyon/Projets/Projet P8 - Triof/triof/images/_dirty_plastic_cup/204bbd0e42.jpg\n",
      "SUCCESS - saved https://thumbs.dreamstime.com/b/empty-dirty-disposable-plastic-cup-empty-dirty-disposable-plastic-cup-isolated-white-background-180772968.jpg - as /Users/enyonadjanor/IA-P2-Euskadi-Enyon/Projets/Projet P8 - Triof/triof/images/_dirty_plastic_cup/8a9f8b6d11.jpg\n",
      "Found: 100 search results. Extracting links from 0:100\n",
      "Found: 10 image links, done!\n",
      "SUCCESS - saved https://c8.alamy.com/compfr/pr7bj2/plaques-en-plastique-sale-au-parti-fini-pr7bj2.jpg - as /Users/enyonadjanor/IA-P2-Euskadi-Enyon/Projets/Projet P8 - Triof/triof/images/dirty_plastic_cutlery/bea837bbe5.jpg\n",
      "SUCCESS - saved https://media.istockphoto.com/photos/empty-take-out-food-container-with-plastic-knife-and-fork-picture-id118733204?k=20&m=118733204&s=612x612&w=0&h=AGYAugHCg3Ix06csJ-980-9pSwvMM_2EID-NOPFUWfw= - as /Users/enyonadjanor/IA-P2-Euskadi-Enyon/Projets/Projet P8 - Triof/triof/images/dirty_plastic_cutlery/46b936a8d5.jpg\n",
      "SUCCESS - saved https://st2.depositphotos.com/2065221/7830/i/950/depositphotos_78301602-stock-photo-dirty-plastic-food-container.jpg - as /Users/enyonadjanor/IA-P2-Euskadi-Enyon/Projets/Projet P8 - Triof/triof/images/dirty_plastic_cutlery/1ec8383d5c.jpg\n",
      "SUCCESS - saved https://t4.ftcdn.net/jpg/03/26/39/71/360_F_326397192_9HMGsXUTMJ5ULmymm3UqbbnFZnZaCcqB.jpg - as /Users/enyonadjanor/IA-P2-Euskadi-Enyon/Projets/Projet P8 - Triof/triof/images/dirty_plastic_cutlery/14da9bbc60.jpg\n",
      "SUCCESS - saved https://st2.depositphotos.com/2065221/7830/i/950/depositphotos_78305270-stock-photo-dirty-plastic-food-container.jpg - as /Users/enyonadjanor/IA-P2-Euskadi-Enyon/Projets/Projet P8 - Triof/triof/images/dirty_plastic_cutlery/cbec061aec.jpg\n",
      "SUCCESS - saved https://imageio.forbes.com/specials-images/dam/imageserve/1151369293/0x0.jpg?format=jpg&width=1200 - as /Users/enyonadjanor/IA-P2-Euskadi-Enyon/Projets/Projet P8 - Triof/triof/images/dirty_plastic_cutlery/313ef2494a.jpg\n",
      "SUCCESS - saved http://thecutleryreview.com/wp-content/uploads/2019/09/dirty-spoon.jpg - as /Users/enyonadjanor/IA-P2-Euskadi-Enyon/Projets/Projet P8 - Triof/triof/images/dirty_plastic_cutlery/9f778f70ba.jpg\n",
      "SUCCESS - saved https://media.istockphoto.com/photos/close-up-view-of-dirty-silver-small-spoon-knife-and-fork-picture-id1140169816 - as /Users/enyonadjanor/IA-P2-Euskadi-Enyon/Projets/Projet P8 - Triof/triof/images/dirty_plastic_cutlery/f199391df3.jpg\n",
      "SUCCESS - saved https://c8.alamy.com/comp/2B8K9NE/dirty-empty-aluminum-container-with-black-plastic-spoon-and-fork-top-view-food-containers-disposable-tableware-after-use-home-delivery-food-2B8K9NE.jpg - as /Users/enyonadjanor/IA-P2-Euskadi-Enyon/Projets/Projet P8 - Triof/triof/images/dirty_plastic_cutlery/9875bafc02.jpg\n",
      "SUCCESS - saved https://c8.alamy.com/comp/A69XHB/dirty-cutlery-on-a-plate-after-a-meal-A69XHB.jpg - as /Users/enyonadjanor/IA-P2-Euskadi-Enyon/Projets/Projet P8 - Triof/triof/images/dirty_plastic_cutlery/828e19f15c.jpg\n"
     ]
    }
   ],
   "source": [
    "search_term_cutlery = \"plastic cutlery\"\n",
    "search_term_cups = \"plastic cup\"\n",
    "search_term_bottle = \"plastic bottle\"\n",
    "search_term_cutlery_dirty = \"dirty plastic cutlery\"\n",
    "search_term_cups_dirty = \" dirty plastic cup\"\n",
    "search_term_bottle_dirty = \" dirty plastic bottle\"\n",
    "driver_path = DRIVER_PATH\n",
    "target_path = \"/Users/enyonadjanor/IA-P2-Euskadi-Enyon/Projets/Projet P8 - Triof/triof/images\"\n",
    "number_images = 10\n",
    "search_and_download(search_term_bottle, driver_path, target_path, number_images)\n",
    "search_and_download(search_term_cups, driver_path, target_path, number_images)\n",
    "search_and_download(search_term_cutlery, driver_path, target_path, number_images)\n",
    "\n",
    "search_and_download(search_term_bottle_dirty, driver_path, target_path, number_images)\n",
    "search_and_download(search_term_cups_dirty, driver_path, target_path, number_images)\n",
    "search_and_download(search_term_cutlery_dirty, driver_path, target_path, number_images)"
   ]
  }
 ],
 "metadata": {
  "interpreter": {
   "hash": "03881ffb49393f5f3d003fb921372a938874eacd9326cb8e004dbd3d966fafd5"
  },
  "kernelspec": {
   "display_name": "Python 3.9.9 ('base')",
   "language": "python",
   "name": "python3"
  },
  "language_info": {
   "codemirror_mode": {
    "name": "ipython",
    "version": 3
   },
   "file_extension": ".py",
   "mimetype": "text/x-python",
   "name": "python",
   "nbconvert_exporter": "python",
   "pygments_lexer": "ipython3",
   "version": "3.9.9"
  },
  "orig_nbformat": 4
 },
 "nbformat": 4,
 "nbformat_minor": 2
}
